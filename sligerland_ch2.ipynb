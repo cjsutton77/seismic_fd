{
  "nbformat": 4,
  "nbformat_minor": 0,
  "metadata": {
    "colab": {
      "provenance": [],
      "authorship_tag": "ABX9TyOlZgiRN15RMWLa0PIgawI3",
      "include_colab_link": true
    },
    "kernelspec": {
      "name": "python3",
      "display_name": "Python 3"
    },
    "language_info": {
      "name": "python"
    }
  },
  "cells": [
    {
      "cell_type": "markdown",
      "metadata": {
        "id": "view-in-github",
        "colab_type": "text"
      },
      "source": [
        "<a href=\"https://colab.research.google.com/github/cjsutton77/seismic_fd/blob/main/sligerland_ch2.ipynb\" target=\"_parent\"><img src=\"https://colab.research.google.com/assets/colab-badge.svg\" alt=\"Open In Colab\"/></a>"
      ]
    },
    {
      "cell_type": "code",
      "execution_count": 1,
      "metadata": {
        "id": "hZqcrGxHig92"
      },
      "outputs": [],
      "source": [
        "import numpy as np\n",
        "import matplotlib.pyplot as plt\n",
        "import sympy"
      ]
    },
    {
      "cell_type": "code",
      "source": [
        "\n",
        "#  n+1         n                     n        n\n",
        "# T     = s * T     + (1 - 2 * s) * T  + s * T\n",
        "#  j           j-1                   j        j+1\n",
        "\n",
        "# T(x + delta x) = T j + 1 -> t = n * delta t\n",
        "# T(t + delta t) = T n + 1 -> x = j * delta x"
      ],
      "metadata": {
        "id": "tBlHTXUDdYfz"
      },
      "execution_count": 2,
      "outputs": []
    },
    {
      "cell_type": "code",
      "source": [
        "dy = 0.0005\n",
        "dt = 0.0005\n",
        "viscosity = 2 * 10**-4\n",
        "diffusion_number = viscosity * dt / (dy ** 2)\n",
        "print(diffusion_number)\n"
      ],
      "metadata": {
        "colab": {
          "base_uri": "https://localhost:8080/"
        },
        "id": "5tVf55PSeBN1",
        "outputId": "d8717e7f-581a-463a-ff23-04f29aabd556"
      },
      "execution_count": 3,
      "outputs": [
        {
          "output_type": "stream",
          "name": "stdout",
          "text": [
            "0.4000000000000001\n"
          ]
        }
      ]
    },
    {
      "cell_type": "code",
      "source": [
        "y_max = 0.04\n",
        "y = np.arange(0,y_max + dy,dy)\n",
        "t = np.arange(0,1+dt,dt)"
      ],
      "metadata": {
        "id": "d8kq7N3ueFhP"
      },
      "execution_count": 4,
      "outputs": []
    },
    {
      "cell_type": "code",
      "source": [
        "y[:10]"
      ],
      "metadata": {
        "colab": {
          "base_uri": "https://localhost:8080/"
        },
        "id": "77bJZef0gGmW",
        "outputId": "b7314826-d145-4d51-c50a-80bb088c7da8"
      },
      "execution_count": 5,
      "outputs": [
        {
          "output_type": "execute_result",
          "data": {
            "text/plain": [
              "array([0.    , 0.0005, 0.001 , 0.0015, 0.002 , 0.0025, 0.003 , 0.0035,\n",
              "       0.004 , 0.0045])"
            ]
          },
          "metadata": {},
          "execution_count": 5
        }
      ]
    },
    {
      "cell_type": "code",
      "source": [
        "t[:10]"
      ],
      "metadata": {
        "colab": {
          "base_uri": "https://localhost:8080/"
        },
        "id": "mGM_fiOegTy4",
        "outputId": "6906f778-88d7-4182-ea41-04fcfb2ca295"
      },
      "execution_count": 6,
      "outputs": [
        {
          "output_type": "execute_result",
          "data": {
            "text/plain": [
              "array([0.    , 0.0005, 0.001 , 0.0015, 0.002 , 0.0025, 0.003 , 0.0035,\n",
              "       0.004 , 0.0045])"
            ]
          },
          "metadata": {},
          "execution_count": 6
        }
      ]
    },
    {
      "cell_type": "code",
      "source": [
        "V = np.zeros((*t.shape,*y.shape))\n",
        "V.shape"
      ],
      "metadata": {
        "colab": {
          "base_uri": "https://localhost:8080/"
        },
        "id": "yy_dCdAPgVlX",
        "outputId": "fbb1dfd2-9e1d-4790-8cb8-743ba5ed85ca"
      },
      "execution_count": 7,
      "outputs": [
        {
          "output_type": "execute_result",
          "data": {
            "text/plain": [
              "(2001, 81)"
            ]
          },
          "metadata": {},
          "execution_count": 7
        }
      ]
    },
    {
      "cell_type": "code",
      "source": [
        "V[:,0] = 40"
      ],
      "metadata": {
        "id": "5s6y8oufggzj"
      },
      "execution_count": 8,
      "outputs": []
    },
    {
      "cell_type": "code",
      "source": [
        "\n",
        "#  n+1         n                     n        n\n",
        "# T     = s * T     + (1 - 2 * s) * T  + s * T\n",
        "#  j           j-1                   j        j+1\n",
        "\n",
        "# T(x + delta x) = T j + 1 -> t = n * delta t\n",
        "# T(t + delta t) = T n + 1 -> x = j * delta x"
      ],
      "metadata": {
        "id": "rxA2hu18gmQW"
      },
      "execution_count": 9,
      "outputs": []
    },
    {
      "cell_type": "code",
      "source": [
        "for time_step in range(0,t.shape[0]-1):\n",
        "  for y_step in range(1,y.shape[0]-1): # we need to go from 1, not 0\n",
        "    V[time_step + 1,y_step] = diffusion_number * V[time_step,y_step - 1] \\\n",
        "                              + (1 - 2 * diffusion_number) * V[time_step,y_step] \\\n",
        "                              + diffusion_number * V[time_step,y_step + 1]"
      ],
      "metadata": {
        "id": "S_QQhq1hg135"
      },
      "execution_count": 10,
      "outputs": []
    },
    {
      "cell_type": "code",
      "source": [
        "V.shape"
      ],
      "metadata": {
        "colab": {
          "base_uri": "https://localhost:8080/"
        },
        "id": "KsVNZJ9Pg67U",
        "outputId": "df2435cc-e4e9-4bf3-aa72-f53243576db8"
      },
      "execution_count": 11,
      "outputs": [
        {
          "output_type": "execute_result",
          "data": {
            "text/plain": [
              "(2001, 81)"
            ]
          },
          "metadata": {},
          "execution_count": 11
        }
      ]
    },
    {
      "cell_type": "code",
      "source": [
        "for i in range(0,100,10):\n",
        "  plt.ylabel(\"V in m/s\")\n",
        "  plt.xlabel(\"y in m\")\n",
        "  #plt.title(f't = {i/1000}')\n",
        "  plt.plot(V[i,:])\n",
        "plt.show()"
      ],
      "metadata": {
        "colab": {
          "base_uri": "https://localhost:8080/",
          "height": 449
        },
        "id": "PXg5v_tpii3R",
        "outputId": "5c1a357f-a349-48f4-c3f7-4e59edddc9fc"
      },
      "execution_count": 12,
      "outputs": [
        {
          "output_type": "display_data",
          "data": {
            "text/plain": [
              "<Figure size 640x480 with 1 Axes>"
            ],
            "image/png": "[encoded data removed]"
          },
          "metadata": {}
        }
      ]
    },
    {
      "cell_type": "code",
      "source": [],
      "metadata": {
        "id": "UGqQc7wOlHwK"
      },
      "execution_count": 12,
      "outputs": []
    }
  ]
}